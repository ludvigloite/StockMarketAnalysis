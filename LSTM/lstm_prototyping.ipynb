{
 "cells": [
  {
   "cell_type": "code",
   "execution_count": 2,
   "metadata": {},
   "outputs": [],
   "source": [
    "from pandas import DataFrame\n",
    "from pandas import concat\n",
    "from pandas import read_csv\n",
    "from datetime import datetime\n",
    "import pandas as pd\n",
    "from sklearn.preprocessing import MinMaxScaler\n",
    "import numpy as np\n",
    "from keras.models import Sequential\n",
    "from keras.layers import Dense\n",
    "from keras.layers import LSTM\n",
    "from keras.layers import Dropout\n",
    "from keras.layers import *\n",
    "from sklearn.metrics import mean_squared_error\n",
    "import os\n",
    "from matplotlib import pyplot as plt\n",
    "\n",
    "PATH_TO_STOCKS = \"./Datasets/Stocks/\"\n",
    "SELECTED = \"Close\"\n",
    "\n",
    "# date-time parsing function for loading the dataset\n",
    "def parser(x):\n",
    "\treturn datetime.strptime('190'+x, '%Y-%m')\n",
    " \n",
    "\n",
    "def split_sequence(sequence, n_steps_in, n_steps_out):\n",
    "\tX, y = list(), list()\n",
    "\tfor i in range(len(sequence)):\n",
    "\t\t# find the end of this pattern\n",
    "\t\tend_ix = i + n_steps_in\n",
    "\t\tout_end_ix = end_ix + n_steps_out\n",
    "\t\t# check if we are beyond the sequence\n",
    "\t\tif out_end_ix > len(sequence):\n",
    "\t\t\tbreak\n",
    "\t\t# gather input and output parts of the pattern\n",
    "\t\tseq_x, seq_y = sequence[i:end_ix], sequence[end_ix:out_end_ix]\n",
    "\t\tX.append(seq_x)\n",
    "\t\ty.append(seq_y)\n",
    "\treturn np.array(X), np.array(y)\n",
    "\n",
    "# transform series into train and test sets for supervised learning\n",
    "def prepare_data(series, n_test, n_lag, n_seq):\n",
    "        # extract raw values\n",
    "        raw_values = series.values\n",
    "        # transform data to be stationary\n",
    "        diff_series = series.diff().dropna()\n",
    "        diff_values = diff_series.values\n",
    "        diff_values = diff_values.reshape(len(diff_values), 1)\n",
    "        # rescale values to -1, 1\n",
    "        scaler = MinMaxScaler(feature_range=(-1, 1))\n",
    "        scaled_values = scaler.fit_transform(diff_values)\n",
    "        scaled_values = scaled_values.reshape(len(scaled_values), 1)\n",
    "        # transform into supervised learning problem X, y\n",
    "\n",
    "        X, y = split_sequence(scaled_values, n_lag, n_seq)\n",
    "        X_train, y_train = X[:-n_test], y[:-n_test]\n",
    "        X_test, y_test = X[-n_test:], y[-n_test:]\n",
    "        return scaler, X_train, y_train, X_test, y_test"
   ]
  },
  {
   "cell_type": "code",
   "execution_count": 3,
   "metadata": {},
   "outputs": [],
   "source": [
    "# fit an LSTM network to training data\n",
    "def create_model(X_train, y_train, n_lag, n_seq, n_batch, nb_epoch, n_neurons):\n",
    "        # reshape training into [samples, timesteps, features]\n",
    "        X_train = X_train.reshape(X_train.shape[0], 1, X_train.shape[1])\n",
    "        # design network\n",
    "        model = Sequential()\n",
    "        model.add(LSTM(n_neurons, batch_input_shape=(n_batch, X_train.shape[1], X_train.shape[2]), stateful=True, return_sequences=False))\n",
    "        # Adding the output layer\n",
    "        model.add(Dense(units = y_train.shape[1]))\n",
    "        model.compile(loss='mean_squared_error', optimizer='adam', metrics=[tf.keras.metrics.MeanAbsoluteError()])\n",
    "        \n",
    "        return model"
   ]
  },
  {
   "cell_type": "code",
   "execution_count": 4,
   "metadata": {},
   "outputs": [],
   "source": [
    "# make one forecast with an LSTM,\n",
    "def forecast_lstm(model, X, n_batch):\n",
    "\t# reshape input pattern to [samples, timesteps, features]\n",
    "\tX = X.reshape(1, 1, len(X))\n",
    "\t# make forecast\n",
    "\tforecast = model.predict(X, batch_size=n_batch)\n",
    "\t# convert to array\n",
    "\treturn [x for x in forecast[0, :]]"
   ]
  },
  {
   "cell_type": "code",
   "execution_count": 5,
   "metadata": {},
   "outputs": [],
   "source": [
    "def make_forecasts(model, n_batch, X_test, n_lag, n_seq):\n",
    "\tforecasts = list()\n",
    "\tfor i in range(X_test.shape[0]):\n",
    "\t\t# make forecast\n",
    "\t\tforecast = forecast_lstm(model, X_test[i], n_batch)\n",
    "\t\t# store the forecast\n",
    "\t\tforecasts.append(forecast)\n",
    "\treturn forecasts"
   ]
  },
  {
   "cell_type": "code",
   "execution_count": 59,
   "metadata": {},
   "outputs": [],
   "source": [
    "def inverse_difference(last_ob, forecast):\n",
    "        forecast_cumsum = forecast.cumsum()\n",
    "        inverted = [last_ob]*len(forecast)\n",
    "        inverted = [sum(x) for x in zip(inverted, forecast_cumsum)]\n",
    "        return inverted"
   ]
  },
  {
   "cell_type": "code",
   "execution_count": 92,
   "metadata": {},
   "outputs": [],
   "source": [
    "# inverse data transform on forecasts\n",
    "def inverse_transform(series, forecasts, scaler, n_test):\n",
    "        inverted = list()\n",
    "        for i in range(len(forecasts)):\n",
    "            # create array from forecast\n",
    "            forecast = np.array(forecasts[i])\n",
    "            forecast = forecast.reshape(1, len(forecast))\n",
    "            # invert scaling\n",
    "            inv_scale = scaler.inverse_transform(forecast)\n",
    "            inv_scale = inv_scale[0, :]\n",
    "            \n",
    "            # invert differencing\n",
    "            index = len(series) - n_test + i - 1\n",
    "            last_ob = series.values[index]\n",
    "            inv_diff = inverse_difference(last_ob, inv_scale)\n",
    "   \n",
    "            inverted.append(inv_diff)\n",
    "        return inverted"
   ]
  },
  {
   "cell_type": "code",
   "execution_count": 61,
   "metadata": {},
   "outputs": [],
   "source": [
    "def evaluate_forecasts(test, forecasts, n_lag, n_seq):\n",
    "\tfor i in range(n_seq):\n",
    "\t\tactual = [row[i] for row in test]\n",
    "\t\tpredicted = [forecast[i] for forecast in forecasts]\n",
    "\t\trmse = np.sqrt(mean_squared_error(actual, predicted))\n",
    "\t\tprint('t+%d RMSE: %f' % ((i+1), rmse))"
   ]
  },
  {
   "cell_type": "code",
   "execution_count": 114,
   "metadata": {},
   "outputs": [],
   "source": [
    "# plot the forecasts in the context of the original dataset\n",
    "def plot_forecasts(series, forecasts, n_test, test_index):\n",
    "    assert test_index<n_test and test_index>=0, \\\n",
    "        f'Please input a valid test_index. Must be larger than 0 and less than {n_test}'\n",
    "    \n",
    "    x_lim = int(len(series) * 0.95)\n",
    "    y_lim_upper = np.max(forecasts) * 1.01\n",
    "    y_lim_lower = min(np.min(series.iloc[x_lim:]), np.min(forecasts))*0.99\n",
    "    \n",
    "    # plot the entire dataset in blue\n",
    "    plt.figure(figsize=(16,8))\n",
    "    plt.plot(series.values, '-o', label='Actual')\n",
    "    \n",
    "    # plot the forecast\n",
    "    start_index = len(series) - n_test + test_index - 1\n",
    "    end_index = start_index + len(forecasts[test_index]) + 1\n",
    "    xaxis = [x for x in range(start_index, end_index)]\n",
    "    yaxis = [series.values[start_index]] + forecasts[test_index]\n",
    "    plt.plot(xaxis, yaxis, '-o', color='orange', label='Predicted')\n",
    "        \n",
    "    # show the plot\n",
    "    plt.axis([x_lim, len(series)+n_seq, y_lim_lower, y_lim_upper])\n",
    "    plt.legend()\n",
    "    plt.savefig(\"lstm_plot.png\")\n",
    "    plt.show()\n",
    "    return"
   ]
  },
  {
   "cell_type": "code",
   "execution_count": 115,
   "metadata": {},
   "outputs": [],
   "source": [
    "# load dataset\n",
    "data = pd.read_csv(os.path.join(PATH_TO_STOCKS, \"gty.us.txt\"), delimiter = \",\", parse_dates=['Date'], usecols=[0,1,2,3,4], index_col=['Date'])\n",
    "series = data[SELECTED]\n",
    "\n",
    "# configure\n",
    "n_seq = 4\n",
    "n_test = 30\n",
    "n_lag = 8\n",
    "n_epochs = 20\n",
    "n_batch = 1\n",
    "n_neurons = 50\n"
   ]
  },
  {
   "cell_type": "code",
   "execution_count": 116,
   "metadata": {},
   "outputs": [],
   "source": [
    "# prepare data\n",
    "scaler, X_train, y_train, X_test, y_test = prepare_data(series, n_test, n_lag, n_seq)"
   ]
  },
  {
   "cell_type": "code",
   "execution_count": 117,
   "metadata": {},
   "outputs": [],
   "source": [
    "# fit model\n",
    "model = create_model(X_train, y_train, n_lag, n_seq, n_batch, n_epochs, n_neurons)"
   ]
  },
  {
   "cell_type": "code",
   "execution_count": 118,
   "metadata": {},
   "outputs": [],
   "source": [
    "es = tf.keras.callbacks.EarlyStopping(patience=5, monitor='loss')"
   ]
  },
  {
   "cell_type": "code",
   "execution_count": 75,
   "metadata": {},
   "outputs": [
    {
     "name": "stdout",
     "output_type": "stream",
     "text": [
      "3159/3159 [==============================] - 6s 1ms/step - loss: 0.0067 - mean_absolute_error: 0.0511\n",
      "3159/3159 [==============================] - 4s 1ms/step - loss: 0.0051 - mean_absolute_error: 0.0456\n",
      "3159/3159 [==============================] - 4s 1ms/step - loss: 0.0050 - mean_absolute_error: 0.0449\n",
      "3159/3159 [==============================] - 4s 1ms/step - loss: 0.0049 - mean_absolute_error: 0.0447\n",
      "3159/3159 [==============================] - 4s 1ms/step - loss: 0.0049 - mean_absolute_error: 0.0447\n",
      "3159/3159 [==============================] - 4s 1ms/step - loss: 0.0049 - mean_absolute_error: 0.0446\n",
      "3159/3159 [==============================] - 4s 1ms/step - loss: 0.0049 - mean_absolute_error: 0.0446\n",
      "3159/3159 [==============================] - 4s 1ms/step - loss: 0.0049 - mean_absolute_error: 0.0446\n",
      "3159/3159 [==============================] - 4s 1ms/step - loss: 0.0049 - mean_absolute_error: 0.0445\n",
      "3159/3159 [==============================] - 4s 1ms/step - loss: 0.0049 - mean_absolute_error: 0.0445\n",
      "3159/3159 [==============================] - 4s 1ms/step - loss: 0.0049 - mean_absolute_error: 0.0445\n",
      "3159/3159 [==============================] - 4s 1ms/step - loss: 0.0049 - mean_absolute_error: 0.0445\n",
      "3159/3159 [==============================] - 4s 1ms/step - loss: 0.0049 - mean_absolute_error: 0.0444\n",
      "3159/3159 [==============================] - 5s 2ms/step - loss: 0.0049 - mean_absolute_error: 0.0444\n",
      "3159/3159 [==============================] - 5s 2ms/step - loss: 0.0048 - mean_absolute_error: 0.0444\n",
      "3159/3159 [==============================] - 4s 1ms/step - loss: 0.0048 - mean_absolute_error: 0.0443\n",
      "3159/3159 [==============================] - 5s 1ms/step - loss: 0.0048 - mean_absolute_error: 0.0443\n",
      "3159/3159 [==============================] - 5s 1ms/step - loss: 0.0048 - mean_absolute_error: 0.0443\n",
      "3159/3159 [==============================] - 5s 2ms/step - loss: 0.0048 - mean_absolute_error: 0.0442\n",
      "3159/3159 [==============================] - 5s 2ms/step - loss: 0.0048 - mean_absolute_error: 0.0442\n"
     ]
    }
   ],
   "source": [
    "X_train_reshaped = X_train.reshape(X_train.shape[0], 1, X_train.shape[1])\n",
    "for i in range(n_epochs):\n",
    "    history = model.fit(X_train_reshaped, y_train, epochs=1, batch_size=n_batch, shuffle=False, callbacks=[es])\n",
    "    #model.reset_states()"
   ]
  },
  {
   "cell_type": "code",
   "execution_count": 119,
   "metadata": {},
   "outputs": [],
   "source": [
    "# make forecasts\n",
    "forecasts = make_forecasts(model, n_batch, X_test, n_lag, n_seq)\n",
    "preds = forecasts"
   ]
  },
  {
   "cell_type": "code",
   "execution_count": 120,
   "metadata": {},
   "outputs": [],
   "source": [
    "# inverse transform forecasts and test\n",
    "forecasts = inverse_transform(series, forecasts, scaler, n_test+n_seq-1)"
   ]
  },
  {
   "cell_type": "code",
   "execution_count": 121,
   "metadata": {},
   "outputs": [],
   "source": [
    "actual = [row.reshape(-1) for row in y_test]\n",
    "actual = inverse_transform(series, actual, scaler, n_test+n_seq-1)"
   ]
  },
  {
   "cell_type": "code",
   "execution_count": 122,
   "metadata": {},
   "outputs": [
    {
     "name": "stdout",
     "output_type": "stream",
     "text": [
      "t+1 RMSE: 2.789805\n",
      "t+2 RMSE: 7.657876\n",
      "t+3 RMSE: 11.035449\n",
      "t+4 RMSE: 14.117019\n"
     ]
    },
    {
     "data": {
      "image/png": "[encoded data removed]",
      "text/plain": [
       "<Figure size 1152x576 with 1 Axes>"
      ]
     },
     "metadata": {
      "needs_background": "light"
     },
     "output_type": "display_data"
    }
   ],
   "source": [
    "# evaluate forecasts\n",
    "evaluate_forecasts(actual, forecasts, n_lag, n_seq)\n",
    "\n",
    "# plot forecasts\n",
    "plot_forecasts(series, forecasts, n_test+n_seq-1, 29)"
   ]
  },
  {
   "cell_type": "code",
   "execution_count": null,
   "metadata": {},
   "outputs": [],
   "source": []
  }
 ],
 "metadata": {
  "kernelspec": {
   "display_name": "Python 3",
   "language": "python",
   "name": "python3"
  },
  "language_info": {
   "codemirror_mode": {
    "name": "ipython",
    "version": 3
   },
   "file_extension": ".py",
   "mimetype": "text/x-python",
   "name": "python",
   "nbconvert_exporter": "python",
   "pygments_lexer": "ipython3",
   "version": "3.8.5"
  }
 },
 "nbformat": 4,
 "nbformat_minor": 4
}

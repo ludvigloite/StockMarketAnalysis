{
 "cells": [
  {
   "cell_type": "code",
   "execution_count": null,
   "metadata": {
    "execution": {
     "iopub.execute_input": "2021-12-11T06:57:05.688344Z",
     "iopub.status.busy": "2021-12-11T06:57:05.687781Z",
     "iopub.status.idle": "2021-12-11T06:57:12.840963Z",
     "shell.execute_reply": "2021-12-11T06:57:12.839847Z",
     "shell.execute_reply.started": "2021-12-11T06:57:05.688272Z"
    }
   },
   "outputs": [],
   "source": [
    "!pip install pmdarima"
   ]
  },
  {
   "cell_type": "code",
   "execution_count": null,
   "metadata": {
    "_cell_guid": "b1076dfc-b9ad-4769-8c92-a6c4dae69d19",
    "_uuid": "8f2839f25d086af736a60e9eeb907d3b93b6e0e5",
    "execution": {
     "iopub.execute_input": "2021-12-11T06:57:12.843589Z",
     "iopub.status.busy": "2021-12-11T06:57:12.843317Z",
     "iopub.status.idle": "2021-12-11T06:57:12.859762Z",
     "shell.execute_reply": "2021-12-11T06:57:12.859074Z",
     "shell.execute_reply.started": "2021-12-11T06:57:12.843547Z"
    }
   },
   "outputs": [],
   "source": [
    "# This Python 3 environment comes with many helpful analytics libraries installed\n",
    "# It is defined by the kaggle/python Docker image: https://github.com/kaggle/docker-python\n",
    "# For example, here's several helpful packages to load\n",
    "\n",
    "import numpy as np # linear algebra\n",
    "import pandas as pd # data processing, CSV file I/O (e.g. pd.read_csv)\n",
    "from datetime import datetime\n",
    "import matplotlib\n",
    "import matplotlib.pylab as plt\n",
    "import matplotlib.pyplot as plt2\n",
    "matplotlib.style.use('seaborn')\n",
    "%matplotlib inline\n",
    "from matplotlib.pylab import rcParams\n",
    "rcParams['figure.figsize'] = 15, 5\n",
    "from plotly.graph_objs import *\n",
    "from tqdm import tqdm\n",
    "import statsmodels.api as sm\n",
    "from pmdarima.arima import auto_arima\n",
    "from statsmodels.tsa.stattools import adfuller\n",
    "from statsmodels.graphics.tsaplots import plot_acf, plot_pacf\n",
    "from statsmodels.tsa.arima_model import ARIMA\n",
    "from sklearn.metrics import mean_squared_error, mean_absolute_error\n",
    "import math\n",
    "import warnings\n",
    "warnings.filterwarnings('ignore')\n",
    "\n",
    "# Input data files are available in the read-only \"../input/\" directory\n",
    "# For example, running this (by clicking run or pressing Shift+Enter) will list all files under the input directory\n",
    "\n",
    "import os\n",
    "#for dirname, _, filenames in os.walk('/kaggle/input'):\n",
    "    #for filename in filenames:\n",
    "        #print(os.path.join(dirname, filename))\n",
    "        \n",
    "\n",
    "# You can write up to 20GB to the current directory (/kaggle/working/) that gets preserved as output when you create a version using \"Save & Run All\" \n",
    "# You can also write temporary files to /kaggle/temp/, but they won't be saved outside of the current session"
   ]
  },
  {
   "cell_type": "code",
   "execution_count": null,
   "metadata": {
    "execution": {
     "iopub.execute_input": "2021-12-11T06:57:12.861279Z",
     "iopub.status.busy": "2021-12-11T06:57:12.861078Z",
     "iopub.status.idle": "2021-12-11T06:57:12.901756Z",
     "shell.execute_reply": "2021-12-11T06:57:12.900976Z",
     "shell.execute_reply.started": "2021-12-11T06:57:12.861254Z"
    }
   },
   "outputs": [],
   "source": [
    "path = '/kaggle/input/price-volume-data-for-all-us-stocks-etfs/Stocks/pypl.us.txt'\n",
    "#path = '/kaggle/input/price-volume-data-for-all-us-stocks-etfs/Stocks/mrk.us.txt'\n",
    "dateparse = lambda dates: datetime.strptime(dates, '%Y-%m-%d')\n",
    "df = pd.read_csv(path,sep=',', index_col='Date', parse_dates=['Date'], date_parser=dateparse).fillna(0)\n",
    "\n",
    "df['Close']\n",
    "df['Close_diff'] = df['Close']-df.shift()['Close']\n",
    "df = df[['Close', 'Close_diff']]\n",
    "df = df.dropna()\n",
    "df"
   ]
  },
  {
   "cell_type": "code",
   "execution_count": null,
   "metadata": {
    "execution": {
     "iopub.execute_input": "2021-12-11T06:57:12.903484Z",
     "iopub.status.busy": "2021-12-11T06:57:12.903254Z",
     "iopub.status.idle": "2021-12-11T06:57:13.159141Z",
     "shell.execute_reply": "2021-12-11T06:57:13.158289Z",
     "shell.execute_reply.started": "2021-12-11T06:57:12.903459Z"
    }
   },
   "outputs": [],
   "source": [
    "#plot close price\n",
    "plt.figure(figsize=(10,6))\n",
    "plt.grid(True)\n",
    "plt.xlabel('Date')\n",
    "plt.ylabel('Close Prices')\n",
    "plt.plot(df['Close'])\n",
    "plt.title('Financial instrument closing price')\n",
    "plt.show()"
   ]
  },
  {
   "cell_type": "code",
   "execution_count": null,
   "metadata": {
    "execution": {
     "iopub.execute_input": "2021-12-11T06:57:13.160394Z",
     "iopub.status.busy": "2021-12-11T06:57:13.16019Z",
     "iopub.status.idle": "2021-12-11T06:57:13.618184Z",
     "shell.execute_reply": "2021-12-11T06:57:13.617466Z",
     "shell.execute_reply.started": "2021-12-11T06:57:13.160369Z"
    }
   },
   "outputs": [],
   "source": [
    "#split into test and train sets\n",
    "\n",
    "#Choose to split on percentage\n",
    "\n",
    "#test_size = 0.1\n",
    "#train_data = df[:int(len(df['Close'])*(1-test_size))]\n",
    "#test_data = df[-int(len(df['Close'])*test_size):]\n",
    "\n",
    "#Choice to split on date range\n",
    "\n",
    "train_data = df['2017-04-01':'2017-10-10']\n",
    "test_data = df['2017-10-10':]\n",
    "\n",
    "plt.figure(figsize=(10,6))\n",
    "plt.grid(True)\n",
    "plt.xlabel('Dates')\n",
    "plt.ylabel('Closing Prices')\n",
    "plt.plot(train_data['Close'], 'black', label='Train data')\n",
    "plt.plot(test_data['Close'], 'red', label='Test data')\n",
    "plt.legend()"
   ]
  },
  {
   "cell_type": "code",
   "execution_count": null,
   "metadata": {
    "execution": {
     "iopub.execute_input": "2021-12-11T06:57:13.619552Z",
     "iopub.status.busy": "2021-12-11T06:57:13.619283Z",
     "iopub.status.idle": "2021-12-11T06:57:14.134795Z",
     "shell.execute_reply": "2021-12-11T06:57:14.134066Z",
     "shell.execute_reply.started": "2021-12-11T06:57:13.619521Z"
    }
   },
   "outputs": [],
   "source": [
    "#Check if time series is staionary\n",
    "def timeseries_stationary(ts):\n",
    "    #Determing rolling statistics\n",
    "    rolmean = ts.rolling(12).mean()\n",
    "    rolstd = ts.rolling(12).std()\n",
    "    plt.plot(rolmean, color='red', label='Mean')\n",
    "    plt.plot(rolstd, color='black', label = 'Std')\n",
    "    plt.legend(loc='best')\n",
    "    plt.title('Mean and Standard Deviation')\n",
    "    plt.show(block=False)\n",
    "    \n",
    "    print(\"ADF Result\")\n",
    "    adft = adfuller(ts,autolag='AIC')\n",
    "    result = adft[0:4]\n",
    "    output = pd.Series(data = result,index=['ADF Statistic','p-value','Lags used','Observations used'])\n",
    "    for index, item in adft[4].items():\n",
    "        output['critical value: %s'%index] =  item\n",
    "    print(output)\n",
    "    \n",
    "timeseries_stationary(train_data['Close'])\n",
    "timeseries_stationary(train_data['Close_diff'])"
   ]
  },
  {
   "cell_type": "code",
   "execution_count": null,
   "metadata": {
    "execution": {
     "iopub.execute_input": "2021-12-11T06:57:14.136906Z",
     "iopub.status.busy": "2021-12-11T06:57:14.136158Z",
     "iopub.status.idle": "2021-12-11T06:57:14.628065Z",
     "shell.execute_reply": "2021-12-11T06:57:14.627174Z",
     "shell.execute_reply.started": "2021-12-11T06:57:14.13686Z"
    }
   },
   "outputs": [],
   "source": [
    "#Use to determine AR and MA parameters\n",
    "plt = sm.graphics.tsa.plot_pacf(train_data['Close_diff'], lags=40, zero=False)\n",
    "plt = sm.graphics.tsa.plot_acf(train_data['Close_diff'], lags=40, zero=False)\n",
    "plt.show()"
   ]
  },
  {
   "cell_type": "code",
   "execution_count": null,
   "metadata": {
    "execution": {
     "iopub.execute_input": "2021-12-11T06:57:14.629718Z",
     "iopub.status.busy": "2021-12-11T06:57:14.629393Z",
     "iopub.status.idle": "2021-12-11T06:57:16.76977Z",
     "shell.execute_reply": "2021-12-11T06:57:16.768821Z",
     "shell.execute_reply.started": "2021-12-11T06:57:14.629672Z"
    }
   },
   "outputs": [],
   "source": [
    "model = auto_arima(train_data['Close'], start_p=0, start_q=0,\n",
    "                      test='adf',       \n",
    "                      max_p=3, max_q=3, \n",
    "                      m=1,              \n",
    "                      d=None,           \n",
    "                      seasonal=False,\n",
    "                      start_P=0, \n",
    "                      D=0, \n",
    "                      trace=True,\n",
    "                      error_action='ignore',  \n",
    "                      suppress_warnings=True, \n",
    "                      stepwise=True)\n",
    "\n",
    "print(model.summary())\n",
    "plt.show()"
   ]
  },
  {
   "cell_type": "code",
   "execution_count": null,
   "metadata": {
    "execution": {
     "iopub.execute_input": "2021-12-11T06:57:16.772098Z",
     "iopub.status.busy": "2021-12-11T06:57:16.771423Z",
     "iopub.status.idle": "2021-12-11T06:57:17.194256Z",
     "shell.execute_reply": "2021-12-11T06:57:17.193464Z",
     "shell.execute_reply.started": "2021-12-11T06:57:16.772048Z"
    }
   },
   "outputs": [],
   "source": [
    "# Build Model\n",
    "model = ARIMA(train_data['Close'], order=(1, 1, 2))  \n",
    "fitted = model.fit(disp=-1)  \n",
    "\n",
    "# Forecast with 95 % confidence interval\n",
    "fc, se, conf = fitted.forecast(len(test_data['Close']), alpha=0.05)\n",
    "\n",
    "\n",
    "# Make as pandas series\n",
    "forecast_series = pd.Series(fc, index=test_data['Close'].index)\n",
    "lower_bound = pd.Series(conf[:, 0], index=test_data.index)\n",
    "upper_bound = pd.Series(conf[:, 1], index=test_data.index)\n",
    "\n",
    "# Plot\n",
    "plt2.figure(figsize=(12,5), dpi=100)\n",
    "plt2.plot(train_data['Close'], label='training')\n",
    "plt2.plot(test_data['Close'], label='testing')\n",
    "plt2.plot(forecast_series, label='forecast')\n",
    "plt2.fill_between(lower_bound.index, lower_bound, upper_bound, \n",
    "                 color='b', alpha=.15)\n",
    "plt2.title('Forecast vs Actual')\n",
    "plt2.legend(loc='upper left', fontsize=8)\n",
    "plt2.show()"
   ]
  },
  {
   "cell_type": "code",
   "execution_count": null,
   "metadata": {
    "execution": {
     "iopub.execute_input": "2021-12-11T06:57:17.196245Z",
     "iopub.status.busy": "2021-12-11T06:57:17.196053Z",
     "iopub.status.idle": "2021-12-11T06:57:17.201545Z",
     "shell.execute_reply": "2021-12-11T06:57:17.200625Z",
     "shell.execute_reply.started": "2021-12-11T06:57:17.196221Z"
    }
   },
   "outputs": [],
   "source": [
    "#Root mean squared Error\n",
    "rmse = math.sqrt(mean_squared_error(test_data['Close'], fc))\n",
    "print('Root Mean Squared Error: '+str(rmse))"
   ]
  }
 ],
 "metadata": {
  "kernelspec": {
   "display_name": "Python 3",
   "language": "python",
   "name": "python3"
  },
  "language_info": {
   "codemirror_mode": {
    "name": "ipython",
    "version": 3
   },
   "file_extension": ".py",
   "mimetype": "text/x-python",
   "name": "python",
   "nbconvert_exporter": "python",
   "pygments_lexer": "ipython3",
   "version": "3.7.9"
  }
 },
 "nbformat": 4,
 "nbformat_minor": 4
}
